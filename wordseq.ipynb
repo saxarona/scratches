{
 "cells": [
  {
   "attachments": {},
   "cell_type": "markdown",
   "metadata": {},
   "source": [
    "# Evolutionary strings"
   ]
  },
  {
   "attachments": {},
   "cell_type": "markdown",
   "metadata": {},
   "source": [
    "Tollef suggested using the T5 [[1](#1)] to generate sequence of possible words for summarization.\n",
    "To handle that, we need to do some experimentation on mutation, crossover and such operators for strings. Let's see:"
   ]
  },
  {
   "cell_type": "code",
   "execution_count": 46,
   "metadata": {},
   "outputs": [],
   "source": [
    "using EvoLP"
   ]
  },
  {
   "cell_type": "code",
   "execution_count": 47,
   "metadata": {},
   "outputs": [
    {
     "data": {
      "text/plain": [
       "\"Heisann bygd! Så god og grisende!\""
      ]
     },
     "metadata": {},
     "output_type": "display_data"
    }
   ],
   "source": [
    "test = raw\"Heisann bygd! Så god og grisende!\""
   ]
  },
  {
   "cell_type": "code",
   "execution_count": 48,
   "metadata": {},
   "outputs": [
    {
     "data": {
      "text/plain": [
       "6-element Vector{SubString{String}}:\n",
       " \"Heisann\"\n",
       " \"bygd!\"\n",
       " \"Så\"\n",
       " \"god\"\n",
       " \"og\"\n",
       " \"grisende!\""
      ]
     },
     "metadata": {},
     "output_type": "display_data"
    }
   ],
   "source": [
    "split(test)"
   ]
  },
  {
   "attachments": {},
   "cell_type": "markdown",
   "metadata": {},
   "source": [
    "Some kind of preprocessing needs to be done to remove question/exclamation marks and such. How do they do it in NLP?"
   ]
  },
  {
   "attachments": {},
   "cell_type": "markdown",
   "metadata": {},
   "source": [
    "Once split, we make a vector out of it. This is an individual:"
   ]
  },
  {
   "cell_type": "code",
   "execution_count": 49,
   "metadata": {},
   "outputs": [
    {
     "data": {
      "text/plain": [
       "6-element Vector{SubString{String}}:\n",
       " \"Heisann\"\n",
       " \"bygd!\"\n",
       " \"Så\"\n",
       " \"god\"\n",
       " \"og\"\n",
       " \"grisende!\""
      ]
     },
     "metadata": {},
     "output_type": "display_data"
    }
   ],
   "source": [
    "ind = Vector(split(test))"
   ]
  },
  {
   "cell_type": "code",
   "execution_count": 56,
   "metadata": {},
   "outputs": [
    {
     "data": {
      "text/plain": [
       "OrderOneCrossover()"
      ]
     },
     "metadata": {},
     "output_type": "display_data"
    }
   ],
   "source": [
    "M1 = SwapMutation()\n",
    "M2 = InversionMutation()\n",
    "M3 = ScrambleMutation()\n",
    "M4 = InsertMutation()\n",
    "C = OrderOneCrossover()"
   ]
  },
  {
   "cell_type": "code",
   "execution_count": 51,
   "metadata": {},
   "outputs": [
    {
     "data": {
      "text/plain": [
       "6-element Vector{SubString{String}}:\n",
       " \"Heisann\"\n",
       " \"og\"\n",
       " \"Så\"\n",
       " \"god\"\n",
       " \"bygd!\"\n",
       " \"grisende!\""
      ]
     },
     "metadata": {},
     "output_type": "display_data"
    }
   ],
   "source": [
    "newind = mutate(M1, ind)"
   ]
  },
  {
   "cell_type": "code",
   "execution_count": 52,
   "metadata": {},
   "outputs": [
    {
     "data": {
      "text/plain": [
       "6-element Vector{SubString{String}}:\n",
       " \"og\"\n",
       " \"bygd!\"\n",
       " \"Så\"\n",
       " \"god\"\n",
       " \"Heisann\"\n",
       " \"grisende!\""
      ]
     },
     "metadata": {},
     "output_type": "display_data"
    }
   ],
   "source": [
    "mutate(M1, ind)"
   ]
  },
  {
   "cell_type": "code",
   "execution_count": 53,
   "metadata": {},
   "outputs": [
    {
     "data": {
      "text/plain": [
       "6-element Vector{SubString{String}}:\n",
       " \"Heisann\"\n",
       " \"bygd!\"\n",
       " \"god\"\n",
       " \"Så\"\n",
       " \"og\"\n",
       " \"grisende!\""
      ]
     },
     "metadata": {},
     "output_type": "display_data"
    }
   ],
   "source": [
    "mutate(M2, ind)"
   ]
  },
  {
   "cell_type": "code",
   "execution_count": 54,
   "metadata": {},
   "outputs": [
    {
     "data": {
      "text/plain": [
       "6-element Vector{SubString{String}}:\n",
       " \"Så\"\n",
       " \"bygd!\"\n",
       " \"god\"\n",
       " \"Heisann\"\n",
       " \"og\"\n",
       " \"grisende!\""
      ]
     },
     "metadata": {},
     "output_type": "display_data"
    }
   ],
   "source": [
    "mutate(M3, ind)"
   ]
  },
  {
   "cell_type": "code",
   "execution_count": 57,
   "metadata": {},
   "outputs": [
    {
     "data": {
      "text/plain": [
       "6-element Vector{SubString{String}}:\n",
       " \"Heisann\"\n",
       " \"bygd!\"\n",
       " \"Så\"\n",
       " \"god\"\n",
       " \"og\"\n",
       " \"grisende!\""
      ]
     },
     "metadata": {},
     "output_type": "display_data"
    }
   ],
   "source": [
    "mutate(M4, ind)"
   ]
  },
  {
   "cell_type": "code",
   "execution_count": 55,
   "metadata": {},
   "outputs": [
    {
     "data": {
      "text/plain": [
       "6-element Vector{Any}:\n",
       " \"Heisann\"\n",
       " \"Så\"\n",
       " \"bygd!\"\n",
       " \"god\"\n",
       " \"og\"\n",
       " \"grisende!\""
      ]
     },
     "metadata": {},
     "output_type": "display_data"
    }
   ],
   "source": [
    "cross(C, ind, newind)"
   ]
  },
  {
   "attachments": {},
   "cell_type": "markdown",
   "metadata": {},
   "source": [
    "The good news is that all combinatorial operators in EvoLP work out of the box.\n",
    "\n",
    "Additional mutation ideas:\n",
    "\n",
    "- Remove a word?\n",
    "- Remove $k$ words?\n",
    "- Swap with max distance?"
   ]
  },
  {
   "attachments": {},
   "cell_type": "markdown",
   "metadata": {},
   "source": [
    "## Crossover"
   ]
  },
  {
   "attachments": {},
   "cell_type": "markdown",
   "metadata": {},
   "source": [
    "What about crossover? Which operators could we implement?"
   ]
  },
  {
   "attachments": {},
   "cell_type": "markdown",
   "metadata": {},
   "source": [
    "### References\n",
    "\n",
    "<span id=\"1\"> [Exploring Transfer Learning with T5: the Text-to-Text Transfer Transformer](https://ai.googleblog.com/2020/02/exploring-transfer-learning-with-t5.html)"
   ]
  }
 ],
 "metadata": {
  "kernelspec": {
   "display_name": "Julia 1.9.1",
   "language": "julia",
   "name": "julia-1.9"
  },
  "language_info": {
   "file_extension": ".jl",
   "mimetype": "application/julia",
   "name": "julia",
   "version": "1.9.1"
  },
  "orig_nbformat": 4
 },
 "nbformat": 4,
 "nbformat_minor": 2
}
