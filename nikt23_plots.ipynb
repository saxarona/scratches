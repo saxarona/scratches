{
 "cells": [
  {
   "cell_type": "markdown",
   "metadata": {},
   "source": [
    "# NIKT'23 - Test Function Plots"
   ]
  },
  {
   "cell_type": "code",
   "execution_count": 1,
   "metadata": {},
   "outputs": [],
   "source": [
    "using GLMakie\n",
    "using Makie.FileIO\n",
    "using EvoLP\n",
    "using Islands"
   ]
  },
  {
   "cell_type": "code",
   "execution_count": 2,
   "metadata": {},
   "outputs": [],
   "source": [
    "GLMakie.activate!()"
   ]
  },
  {
   "cell_type": "markdown",
   "metadata": {},
   "source": [
    "## Experiment 1"
   ]
  },
  {
   "cell_type": "code",
   "execution_count": 3,
   "metadata": {},
   "outputs": [],
   "source": [
    "f = Figure(resolution = (600, 1000), fontsize = 26, pt_per_pixel=2)\n",
    "cmap = :viridis\n",
    "ax1 = Axis3(f[1, 1], title=\"Ackley\", tellwidth=false)\n",
    "\n",
    "xs = LinRange(-32.768, 32.768, 50)\n",
    "ys = xs\n",
    "zs = [ackley([x, y]) for x in xs, y in ys]\n",
    "zmin, zmax = 0, maximum(zs)\n",
    "\n",
    "surface!(ax1, xs, ys, zs, colormap=cmap, rasterize=true)\n",
    "wireframe!(ax1, xs, ys, zs; overdraw=true, transparecy=true, color=(:black, 0.03))\n",
    "\n",
    "xm, ym, zm = minimum(ax1.finallimits[])\n",
    "contour!(ax1, xs, ys, zs; levels = 20, colormap = cmap, linewidth = 1,\n",
    "    colorrange = (zmin, zmax), transformation = (:xy, zmin),\n",
    "    transparency = true)\n",
    "\n",
    "ax2 = Axis3(f[2, 1], title=\"Rosenbrock\", zlabeloffset=75)\n",
    "\n",
    "xs = LinRange(-2.048, 2.048, 50)\n",
    "ys = xs\n",
    "zs = [rosenbrock([x, y]) for x in xs, y in ys]\n",
    "zmin, zmax = minimum(zs), maximum(zs)\n",
    "\n",
    "surface!(ax2, xs, ys, zs, colormap=cmap, rasterize=true)\n",
    "wireframe!(ax2, xs, ys, zs; overdraw=true, transparecy=true, color=(:black, 0.03))\n",
    "\n",
    "xm, ym, zm = minimum(ax1.finallimits[])\n",
    "contour!(ax2, xs, ys, zs; levels = 20, colormap = cmap, linewidth = 1,\n",
    "    colorrange = (zmin, zmax), transformation = (:xy, zmin),\n",
    "    transparency = true)\n",
    "\n",
    "ax3 = Axis3(f[3, 1], title=\"Michalewicz\")\n",
    "\n",
    "xs = LinRange(0, π, 50)\n",
    "ys = xs\n",
    "zs = [michalewicz([x, y]) for x in xs, y in ys]\n",
    "zmin, zmax = minimum(zs), maximum(zs)\n",
    "\n",
    "surface!(ax3, xs, ys, zs, colormap=cmap, rasterize=true)\n",
    "wireframe!(ax3, xs, ys, zs; overdraw=true, transparecy=true, color=(:black, 0.03))\n",
    "\n",
    "xm, ym, zm = minimum(ax1.finallimits[])\n",
    "contour!(ax3, xs, ys, zs; levels = 20, colormap = cmap, linewidth = 1,\n",
    "    colorrange = (zmin, zmax), transformation = (:xy, zmin),\n",
    "    transparency = true)\n",
    "\n",
    "save(\"exp1.png\", f)\n",
    "f\n"
   ]
  },
  {
   "cell_type": "code",
   "execution_count": 5,
   "metadata": {},
   "outputs": [],
   "source": [
    "f = Figure(resolution = (680, 1000), fontsize = 26, pt_per_pixel=2)\n",
    "\n",
    "cmap = :viridis\n",
    "\n",
    "xs = LinRange(-512, 512, 200)\n",
    "ys = xs\n",
    "\n",
    "ax1 = Axis3(f[1, 1], title=\"Eggholder\", tellwidth=false)\n",
    "zs = [eggholder([x, y]) for x in xs, y in ys]\n",
    "zmin, zmax = minimum(zs), maximum(zs)\n",
    "\n",
    "surface!(ax1, xs, ys, zs, colormap=cmap, rasterize=true)\n",
    "wireframe!(ax1, xs, ys, zs; overdraw=true, transparecy=true, color=(:black, 0.03))\n",
    "\n",
    "xm, ym, zm = minimum(ax1.finallimits[])\n",
    "contour!(ax1, xs, ys, zs; levels = 20, colormap = cmap, linewidth = 1,\n",
    "    colorrange = (zmin, zmax), transformation = (:xy, zmin),\n",
    "    transparency = true)\n",
    "\n",
    "\n",
    "ax2 = Axis3(f[2, 1], title=\"Rana\", tellwidth=false)\n",
    "zs = [rana([x, y]) for x in xs, y in ys]\n",
    "zmin, zmax = minimum(zs), maximum(zs)\n",
    "\n",
    "surface!(ax2, xs, ys, zs, colormap=cmap, rasterize=true)\n",
    "wireframe!(ax2, xs, ys, zs; overdraw=true, transparecy=true, color=(:black, 0.03))\n",
    "\n",
    "xm, ym, zm = minimum(ax2.finallimits[])\n",
    "contour!(ax2, xs, ys, zs; levels = 20, colormap = cmap, linewidth = 1,\n",
    "    colorrange = (zmin, zmax), transformation = (:xy, zmin),\n",
    "    transparency = true)\n",
    "    \n",
    "save(\"exp2.png\", f)\n",
    "f"
   ]
  }
 ],
 "metadata": {
  "kernelspec": {
   "display_name": "Julia 1.9.3",
   "language": "julia",
   "name": "julia-1.9"
  },
  "language_info": {
   "file_extension": ".jl",
   "mimetype": "application/julia",
   "name": "julia",
   "version": "1.9.3"
  }
 },
 "nbformat": 4,
 "nbformat_minor": 2
}
